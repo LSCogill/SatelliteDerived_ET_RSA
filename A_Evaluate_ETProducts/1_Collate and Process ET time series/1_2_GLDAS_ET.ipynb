{
  "nbformat": 4,
  "nbformat_minor": 0,
  "metadata": {
    "colab": {
      "provenance": []
    },
    "kernelspec": {
      "name": "python3",
      "display_name": "Python 3"
    },
    "language_info": {
      "name": "python"
    }
  },
  "cells": [
    {
      "cell_type": "markdown",
      "source": [
        "# GLDAS"
      ],
      "metadata": {
        "id": "xXZ6YCH6mZ81"
      }
    },
    {
      "cell_type": "code",
      "source": [
        "import ee\n",
        "import geemap\n",
        "\n",
        "# Trigger the authentication flow.\n",
        "ee.Authenticate()\n",
        "\n",
        "# Initialize the library.\n",
        "ee.Initialize()"
      ],
      "metadata": {
        "id": "I3bVLM0vofRt"
      },
      "execution_count": null,
      "outputs": []
    },
    {
      "cell_type": "code",
      "source": [
        "import pandas as pd\n",
        "import matplotlib.pyplot as plt\n",
        "\n",
        "# Define the region of interest\n",
        "ET_region = ee.Geometry.Point([29.25197, -28.9936]) # Flux tower coords to go here\n",
        "\n",
        "# Load the GLDAS image collection\n",
        "collection = ee.ImageCollection(\"NASA/GLDAS/V021/NOAH/G025/T3H\")\n",
        "\n",
        "# Calculate the date range\n",
        "range = collection.reduceColumns(ee.Reducer.minMax(), ['system:time_start'])\n",
        "diff = ee.Date(range.get('max')).difference(ee.Date(range.get('min')), 'months')\n",
        "\n",
        "# Function to calculate monthly sums\n",
        "def monthly_sum(n):\n",
        "    start = ee.Date(range.get('min')).advance(n, 'month')\n",
        "    end = start.advance(1, 'month')\n",
        "    return collection \\\n",
        "            .filterDate(start, end) \\\n",
        "            .sum().multiply(24 * 60 * 60) \\\n",
        "            .set('system:time_start', start)\n",
        "\n",
        "# Apply the function to get monthly sums\n",
        "month_mean = ee.List.sequence(0, diff).map(monthly_sum)\n",
        "ET = ee.ImageCollection(month_mean).select('Evap_tavg')\n",
        "\n",
        "# Extract data for the region\n",
        "ET_data = ET.getRegion(ET_region, 27830).getInfo()\n",
        "\n",
        "# Convert to DataFrame for easier handling\n",
        "df = pd.DataFrame(ET_data[1:], columns=ET_data[0])\n",
        "df['datetime'] = pd.to_datetime(df['system:time_start'], unit='ms')\n",
        "df['Evap_tavg'] = pd.to_numeric(df['Evap_tavg'])\n",
        "\n",
        "# Save the DataFrame to a CSV file\n",
        "csv_filename = \"ET_GLDAS.csv\"\n",
        "df.to_csv(csv_filename, index=False)\n",
        "print(f\"Data successfully saved to {csv_filename}\")"
      ],
      "metadata": {
        "id": "VJVpwFA2ofbg"
      },
      "execution_count": null,
      "outputs": []
    }
  ]
}