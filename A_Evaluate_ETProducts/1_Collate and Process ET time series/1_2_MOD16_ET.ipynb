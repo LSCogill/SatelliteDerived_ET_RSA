{
  "nbformat": 4,
  "nbformat_minor": 0,
  "metadata": {
    "colab": {
      "provenance": []
    },
    "kernelspec": {
      "name": "python3",
      "display_name": "Python 3"
    },
    "language_info": {
      "name": "python"
    }
  },
  "cells": [
    {
      "cell_type": "markdown",
      "source": [
        "# MOD16"
      ],
      "metadata": {
        "id": "DJaGPOJiosvN"
      }
    },
    {
      "cell_type": "code",
      "execution_count": null,
      "metadata": {
        "id": "QjZU7M5uoq5P"
      },
      "outputs": [],
      "source": [
        "# Import relevant libraries\n",
        "import csv\n",
        "import ee"
      ]
    },
    {
      "cell_type": "code",
      "source": [
        "# Load MOD16 ET dataset from Earth Engine\n",
        "mod16 = ee.ImageCollection('MODIS/061/MOD16A2GF').filterBounds(region) # region defined in WaPOR section above (region = your point coords)\n",
        "\n",
        "# Define the function to process MOD16 data\n",
        "def process_mod16(image):\n",
        "\n",
        "    # Exclude invalid values (water bodies, urban areas, etc.)\n",
        "    mask = image.select('ET').lt(65529)  # Adjust this condition based on valid range\n",
        "    et_mm = image.select('ET').updateMask(mask).multiply(0.1)  # Convert to mm after masking\n",
        "\n",
        "    # Calculate monthly mean ET\n",
        "    date = ee.Date(image.get('system:time_start')).format('YYYY-MM-dd')\n",
        "    mean_value = et_mm.reduceRegion(reducer=ee.Reducer.mean(), geometry=region, scale=500).getInfo()\n",
        "\n",
        "    return {'date': date.getInfo(), 'MOD16': mean_value.get('ET')}\n"
      ],
      "metadata": {
        "id": "z1SSwHNgovBC"
      },
      "execution_count": null,
      "outputs": []
    },
    {
      "cell_type": "code",
      "source": [
        "# Apply the function to each MOD16 image in the collection\n",
        "mod16_means = []\n",
        "# Retrieve the list of images in the collection for your specified dates\n",
        "mod16_images = mod16.filterDate('2014-06-01', '2023-09-01').toList(mod16.size())\n",
        "\n",
        "# Loop through the list of images\n",
        "for i in range(mod16_images.size().getInfo()):\n",
        "    image = ee.Image(mod16_images.get(i))\n",
        "    monthly_mean = process_mod16(image)\n",
        "    mod16_means.append(monthly_mean)\n",
        "\n",
        "# Write MOD16 data to CSV\n",
        "with open('mod16_means.csv', 'w', newline='') as csvfile:\n",
        "    writer = csv.DictWriter(csvfile, fieldnames=['date', 'MOD16'])\n",
        "    writer.writeheader()\n",
        "    writer.writerows(mod16_means)\n",
        "\n",
        "print(\"MOD16 data summarized and saved to mod16_means.csv\")"
      ],
      "metadata": {
        "id": "RmI2FuRLovDS"
      },
      "execution_count": null,
      "outputs": []
    },
    {
      "cell_type": "code",
      "source": [
        "# Import relevant libraries\n",
        "import csv\n",
        "import ee\n",
        "import pandas as pd\n",
        "\n",
        "# Initialize the Earth Engine module\n",
        "ee.Initialize()"
      ],
      "metadata": {
        "id": "8sGX1cUSovF1"
      },
      "execution_count": null,
      "outputs": []
    },
    {
      "cell_type": "code",
      "source": [
        "# Load MOD16 ET dataset from Earth Engine\n",
        "mod16 = ee.ImageCollection('MODIS/061/MOD16A2GF').filterBounds(region)  # Using your predefined region above\n",
        "\n",
        "# Define function to process MOD16 data\n",
        "def process_mod16(image):\n",
        "    # Exclude invalid values (masking out fill values)\n",
        "    mask = image.select('ET').lt(65529)  # Adjust this based on valid ET values\n",
        "    et_mm = image.select('ET').updateMask(mask).multiply(0.1)  # Convert to mm after masking\n",
        "\n",
        "    # Calculate the month and year from the image date\n",
        "    date = ee.Date(image.get('system:time_start'))\n",
        "    date_str = date.format('YYYY-MM').getInfo()  # Get the date as Year-Month\n",
        "\n",
        "    # Calculate the spatial mean ET for the image\n",
        "    mean_value = et_mm.reduceRegion(\n",
        "        reducer=ee.Reducer.mean(),\n",
        "        geometry=region,  # Use your predefined region\n",
        "        scale=500,  # Use a reasonable scale; adjust if needed\n",
        "        maxPixels=1e6,  # Set a limit for maxPixels\n",
        "        bestEffort=False  # Disable best effort to focus on the exact region\n",
        "    ).getInfo()\n",
        "\n",
        "    # Check if 'ET' key exists in mean_value and if it's not None\n",
        "    # If 'ET' is None or not found, return 0 for MOD16\n",
        "    et_value = mean_value.get('ET')\n",
        "    return {'date': date_str, 'MOD16': et_value if et_value is not None else 0}\n",
        "\n",
        "# Initialize a dictionary to accumulate monthly totals\n",
        "monthly_totals = {}\n",
        "\n",
        "# Get the list of images in the collection for the specified date range\n",
        "image_list = mod16.filterDate('2014-06-01', '2023-09-01').toList(mod16.size())\n",
        "\n",
        "# Iterate through the MOD16 images and accumulate monthly means\n",
        "for i in range(image_list.size().getInfo()):\n",
        "    image = ee.Image(image_list.get(i))  # Get the image from the list\n",
        "    monthly_mean = process_mod16(image)\n",
        "    date_key = monthly_mean['date']\n",
        "\n",
        "    if date_key not in monthly_totals:\n",
        "        monthly_totals[date_key] = 0\n",
        "    # Add the spatial mean value (in mm) to the total for the month\n",
        "    monthly_totals[date_key] += monthly_mean['MOD16']"
      ],
      "metadata": {
        "id": "bJjSv651o2kb"
      },
      "execution_count": null,
      "outputs": []
    },
    {
      "cell_type": "code",
      "source": [
        "# Convert to a DataFrame for easy manipulation and export\n",
        "mod16_monthly_df = pd.DataFrame(list(monthly_totals.items()), columns=['date', 'MOD16'])\n",
        "\n",
        "# Write MOD16 monthly totals to CSV\n",
        "mod16_monthly_df.to_csv('monthly_mod16_data.csv', index=False)"
      ],
      "metadata": {
        "id": "e82h-DlRo5Cz"
      },
      "execution_count": null,
      "outputs": []
    }
  ]
}