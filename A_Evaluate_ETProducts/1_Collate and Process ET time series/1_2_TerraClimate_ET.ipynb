{
  "nbformat": 4,
  "nbformat_minor": 0,
  "metadata": {
    "colab": {
      "provenance": []
    },
    "kernelspec": {
      "name": "python3",
      "display_name": "Python 3"
    },
    "language_info": {
      "name": "python"
    }
  },
  "cells": [
    {
      "cell_type": "markdown",
      "source": [
        "# TerraClimate"
      ],
      "metadata": {
        "id": "vCLTIBEopPvQ"
      }
    },
    {
      "cell_type": "code",
      "execution_count": null,
      "metadata": {
        "id": "UrqBL0CGpOoi"
      },
      "outputs": [],
      "source": [
        "# Import relevant libraries\n",
        "import ee\n",
        "import geemap\n",
        "\n",
        "# Initialize Earth Engine\n",
        "ee.Authenticate()  # Only needed for the first time, follow the prompt to authenticate\n",
        "ee.Initialize()"
      ]
    },
    {
      "cell_type": "code",
      "source": [
        "# define region\n",
        "region = []\n",
        "\n",
        "# Define the date range\n",
        "start_date = '2014-06-01'\n",
        "end_date = '2023-09-01'\n",
        "\n",
        "# Load the TerraClimate dataset from Earth Engine and filter according to date and region (point coords)\n",
        "terraclimate = ee.ImageCollection('IDAHO_EPSCOR/TERRACLIMATE') \\\n",
        "    .filterBounds(region) \\\n",
        "    .filterDate(start_date, end_date)\n",
        "\n",
        "# Select the variable of interest (monthly evapotranspiration)\n",
        "evapotranspiration = terraclimate.select('aet')"
      ],
      "metadata": {
        "id": "kZzPfFB5pPSK"
      },
      "execution_count": null,
      "outputs": []
    },
    {
      "cell_type": "code",
      "source": [
        "# Define a function to acquire monthly evapotranspiration\n",
        "def calculate_monthly_et(image):\n",
        "    # Reduce the region to get the monthly ET within the point/region\n",
        "    monthly_et = image.reduceRegion(\n",
        "        reducer=ee.Reducer.sum(),\n",
        "        geometry=region,\n",
        "        scale=4640\n",
        "    ).get('aet')\n",
        "\n",
        "    # Apply the scaling factor\n",
        "    scaled_et = ee.Number(monthly_et).multiply(0.1)\n",
        "\n",
        "    # Get the date of the image\n",
        "    date = image.date().format(\"YYYY-MM\")\n",
        "\n",
        "    # Return the date and the monthly ET as properties of a feature\n",
        "    return ee.Feature(None, {\n",
        "        'date': date,\n",
        "        'evapotranspiration': scaled_et\n",
        "    })"
      ],
      "metadata": {
        "id": "aghXEscypPU5"
      },
      "execution_count": null,
      "outputs": []
    },
    {
      "cell_type": "code",
      "source": [
        "# Convert the result to a list to export it as a DataFrame\n",
        "et_list = evapotranspiration_data.aggregate_array('evapotranspiration').getInfo()\n",
        "dates_list = evapotranspiration_data.aggregate_array('date').getInfo()"
      ],
      "metadata": {
        "id": "qihloNWHpPXL"
      },
      "execution_count": null,
      "outputs": []
    },
    {
      "cell_type": "code",
      "source": [
        "# Combine dates and ET data into a DataFrame\n",
        "et_df = pd.DataFrame({\n",
        "    'date': dates_list,\n",
        "    'evapotranspiration_TC': et_list\n",
        "})\n",
        "\n",
        "# Export the DataFrame to CSV\n",
        "et_df.to_csv('monthly_terraclimate_data.csv', index=False)\n",
        "print(\"CSV file has been created.\")"
      ],
      "metadata": {
        "id": "q7NANxbzpcf5"
      },
      "execution_count": null,
      "outputs": []
    }
  ]
}