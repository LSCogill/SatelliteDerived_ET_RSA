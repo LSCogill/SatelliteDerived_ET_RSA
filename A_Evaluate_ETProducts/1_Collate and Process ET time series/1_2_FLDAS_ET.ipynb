{
  "nbformat": 4,
  "nbformat_minor": 0,
  "metadata": {
    "colab": {
      "provenance": []
    },
    "kernelspec": {
      "name": "python3",
      "display_name": "Python 3"
    },
    "language_info": {
      "name": "python"
    }
  },
  "cells": [
    {
      "cell_type": "markdown",
      "source": [
        "# FLDAS"
      ],
      "metadata": {
        "id": "N9gtgwo3llxw"
      }
    },
    {
      "cell_type": "code",
      "execution_count": null,
      "metadata": {
        "id": "ZIk6qUpzj0TI"
      },
      "outputs": [],
      "source": [
        "# Import relevant libraries\n",
        "import ee\n",
        "import geemap\n",
        "import pandas as pd\n",
        "\n",
        "# Initialize Earth Engine\n",
        "ee.Authenticate()\n",
        "ee.Initialize(project='ee-lscogill4')"
      ]
    },
    {
      "cell_type": "code",
      "source": [
        "# define region with point coords\n",
        "region = ee.Geometry.Point([29.23397, -28.994639]) # coords of the flux tower to go here\n",
        "\n",
        "# Define the date range\n",
        "start_date = '2014-06-01'\n",
        "end_date = '2023-09-01'\n",
        "\n",
        "# Load FLDAS ET monthly data from Earth Engine\n",
        "fldas = ee.ImageCollection(\"NASA/FLDAS/NOAH01/C/GL/M/V001\")\n",
        "\n",
        "# Filter the FLDAS dataset by region and date\n",
        "filtered_fldas = fldas.filterBounds(region).filterDate(start_date, end_date)"
      ],
      "metadata": {
        "id": "JzX3PTJmlsMp"
      },
      "execution_count": null,
      "outputs": []
    },
    {
      "cell_type": "code",
      "source": [
        "# Define a function to acquire monthly ET\n",
        "\n",
        "# Only 1 ET value per month for this product (FLDAS timeseries comes in a monthly timestep already),\n",
        "# Therefore no mean or sums to be calculated\n",
        "def calculate_monthly_et(image_collection, date_str):\n",
        "    \"\"\"Calculates the monthly sum of ET for a given image collection and date.\n",
        "\n",
        "    Args:\n",
        "        image_collection (ee.ImageCollection): The image collection to process.\n",
        "        date_str (str): The date string in 'YYYY-MM' format.\n",
        "\n",
        "    Returns:\n",
        "        dict: A dictionary containing the date and monthly ET sum.\n",
        "    \"\"\"\n",
        "    monthly_fldas_et = image_collection.select('Evap_tavg').first().reduceRegion(\n",
        "        reducer=ee.Reducer.first(),\n",
        "        geometry=region,\n",
        "        scale=11132,\n",
        "        maxPixels=1e9\n",
        "    )\n",
        "    return {\n",
        "        'Date': date_str,\n",
        "        'Monthly_ET': monthly_fldas_et.get('Evap_tavg').getInfo()\n",
        "    }\n",
        "\n",
        "# Define a function to calculate monthly sums\n",
        "def calculate_monthly(collection):\n",
        "    \"\"\"Calculates monthly sums of ET for the given collection.\n",
        "\n",
        "    Args:\n",
        "        collection (ee.ImageCollection): The image collection to process.\n",
        "\n",
        "    Returns:\n",
        "        list: A list of dictionaries containing the date and monthly ET sum for each month.\n",
        "    \"\"\"\n",
        "    start = ee.Date(start_date)\n",
        "    end = ee.Date(end_date)\n",
        "    months = ee.List.sequence(0, end.difference(start, 'months').subtract(1))\n",
        "    results = []\n",
        "\n",
        "    def monthly_composite(month_offset):\n",
        "        month_start = start.advance(month_offset, 'months')\n",
        "        month_end = month_start.advance(1, 'months')\n",
        "        date_str = month_start.format('YYYY-MM').getInfo()\n",
        "        monthly_images = collection.filterDate(month_start, month_end)\n",
        "        et_result = calculate_monthly_et(monthly_images, date_str)\n",
        "        results.append(et_result)\n",
        "\n",
        "    for month_offset in months.getInfo():\n",
        "        monthly_composite(month_offset)\n",
        "\n",
        "    return results\n",
        "\n",
        "# Extract monthly ET (ET still in kg/m2/s and needs to be converted to mm/month in the next block of code below)\n",
        "monthly_et_fldas_results = calculate_monthly(filtered_fldas)\n",
        "\n",
        "# Convert the results to a DataFrame\n",
        "monthly_fldas_et_df = pd.DataFrame(monthly_et_fldas_results)\n",
        "\n",
        "# Display the DataFrame\n",
        "print(monthly_fldas_et_df)"
      ],
      "metadata": {
        "id": "JW2-C-waltb4"
      },
      "execution_count": null,
      "outputs": []
    },
    {
      "cell_type": "code",
      "source": [
        "# Import relevant libraries\n",
        "import pandas as pd\n",
        "from calendar import monthrange\n",
        "\n",
        "# Convert the 'Date' column to datetime objects\n",
        "monthly_fldas_et_df['Date'] = pd.to_datetime(monthly_fldas_et_df['Date'], format='%Y-%m')\n",
        "\n",
        "# Function to get the number of days in the month for each date\n",
        "monthly_fldas_et_df['Days_in_Month'] = monthly_fldas_et_df['Date'].apply(lambda date: monthrange(date.year, date.month)[1])\n",
        "\n",
        "# Multiply Monthly_ET by the number of days in each month and by 86400 for conversion [*]\n",
        "# [*Conversion: ET kg/m2/s1 = x 86400 (24*60*60) x number of days in each month = ET mm/month]\n",
        "monthly_fldas_et_df['Monthly_ET'] = monthly_fldas_et_df['Monthly_ET'] * monthly_fldas_et_df['Days_in_Month'] * 86400\n",
        "\n",
        "# Display the updated DataFrame\n",
        "print(monthly_fldas_et_df)\n",
        "\n",
        "# Convert the result to a list to export it as a DataFrame\n",
        "et_fldas_list = monthly_fldas_et_df['Monthly_ET'].tolist()\n",
        "print(et_fldas_list)\n",
        "dates_fldas_list = monthly_fldas_et_df['Date'].tolist()\n",
        "print(dates_fldas_list)"
      ],
      "metadata": {
        "id": "F56yR3pCltd4"
      },
      "execution_count": null,
      "outputs": []
    },
    {
      "cell_type": "code",
      "source": [
        "# Combine dates and ET data into a DataFrame\n",
        "et_fldas_df = pd.DataFrame({\n",
        "    'date': dates_fldas_list,\n",
        "    'evapotranspiration': et_fldas_list\n",
        "})\n",
        "\n",
        "#  Export the DataFrame to CSV\n",
        "et_fldas_df.to_csv('monthly_fldas_data.csv', index=False)\n",
        "print(\"CSV file has been created.\")"
      ],
      "metadata": {
        "id": "uME8xXDUl1EX"
      },
      "execution_count": null,
      "outputs": []
    }
  ]
}