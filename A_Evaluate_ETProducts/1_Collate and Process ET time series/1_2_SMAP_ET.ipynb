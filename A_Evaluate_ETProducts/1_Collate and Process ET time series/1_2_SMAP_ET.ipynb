{
  "nbformat": 4,
  "nbformat_minor": 0,
  "metadata": {
    "colab": {
      "provenance": []
    },
    "kernelspec": {
      "name": "python3",
      "display_name": "Python 3"
    },
    "language_info": {
      "name": "python"
    }
  },
  "cells": [
    {
      "cell_type": "markdown",
      "source": [
        "# SMAP"
      ],
      "metadata": {
        "id": "SH_4_bkRnL4A"
      }
    },
    {
      "cell_type": "code",
      "execution_count": null,
      "metadata": {
        "id": "B3PVq5zWmpXd"
      },
      "outputs": [],
      "source": [
        "# Import relevant libraries\n",
        "import ee\n",
        "import pandas as pd\n",
        "ee.Authenticate()\n",
        "ee.Initialize()"
      ]
    },
    {
      "cell_type": "code",
      "source": [
        "# define region (Either place point coords, or use region defined above)\n",
        "region = []\n",
        "\n",
        "# Define the date range and load SMAP data from Earth Engine\n",
        "### NB NOTE!!!: SMAP ET data only available from April 2015) ###\n",
        "start_date = '2015-04-01'\n",
        "end_date = '2023-09-01'\n",
        "\n",
        "smap = ee.ImageCollection(\"NASA/SMAP/SPL4SMGP/007\")"
      ],
      "metadata": {
        "id": "nqZqqyUznaqm"
      },
      "execution_count": null,
      "outputs": []
    },
    {
      "cell_type": "code",
      "source": [
        "# Filter the SMAP dataset by region and date\n",
        "filtered_smap = smap.filterBounds(region).filterDate(start_date, end_date)\n"
      ],
      "metadata": {
        "id": "h3x6NmdLnasr"
      },
      "execution_count": null,
      "outputs": []
    },
    {
      "cell_type": "code",
      "source": [
        "# Define a function to calculate monthly ET sums\n",
        "def calculate_monthly_et_sum(image_collection, date_str):\n",
        "    \"\"\"Calculates the monthly sum of ET for a given image collection and date.\n",
        "\n",
        "    Args:\n",
        "        image_collection (ee.ImageCollection): The image collection to process.\n",
        "        date_str (str): The date string in 'YYYY-MM' format.\n",
        "\n",
        "    Returns:\n",
        "        dict: A dictionary containing the date and monthly ET sum.\n",
        "    \"\"\"\n",
        "    monthly_smap_et = image_collection.select('land_evapotranspiration_flux').sum().reduceRegion(\n",
        "        reducer=ee.Reducer.sum(),\n",
        "        geometry=region,\n",
        "        scale=11000,\n",
        "        maxPixels=1e9\n",
        "    )\n",
        "    return {\n",
        "        'Date': date_str,\n",
        "        'Monthly_ET': monthly_smap_et.get('land_evapotranspiration_flux').getInfo()\n",
        "    }\n",
        "\n",
        "# Define a function to calculate monthly sums\n",
        "def calculate_monthly_sums(collection):\n",
        "    \"\"\"Calculates monthly sums of ET for the given collection.\n",
        "\n",
        "    Args:\n",
        "        collection (ee.ImageCollection): The image collection to process.\n",
        "\n",
        "    Returns:\n",
        "        list: A list of dictionaries containing the date and monthly ET sum for each month.\n",
        "    \"\"\"\n",
        "    start = ee.Date(start_date)\n",
        "    end = ee.Date(end_date)\n",
        "    months = ee.List.sequence(0, end.difference(start, 'months').subtract(1))\n",
        "    results = []\n",
        "\n",
        "    def monthly_composite(month_offset):\n",
        "        month_start = start.advance(month_offset, 'months')\n",
        "        month_end = month_start.advance(1, 'months')\n",
        "        date_str = month_start.format('YYYY-MM').getInfo()\n",
        "        monthly_images = collection.filterDate(month_start, month_end)\n",
        "        et_result = calculate_monthly_et_sum(monthly_images, date_str)\n",
        "        results.append(et_result)\n",
        "\n",
        "    for month_offset in months.getInfo():\n",
        "        monthly_composite(month_offset)\n",
        "\n",
        "    return results\n",
        "\n",
        "# Calculate the monthly ET sums (Total ET for each month in kg/m2/s and therefore still needs to be converted below)\n",
        "monthly_et_smap_results = calculate_monthly_sums(filtered_smap)\n",
        "\n",
        "# Convert the results to a DataFrame\n",
        "monthly_smap_et_df = pd.DataFrame(monthly_et_smap_results)\n",
        "\n",
        "# Display the DataFrame\n",
        "print(monthly_smap_et_df)"
      ],
      "metadata": {
        "id": "VgNgD12ynavK"
      },
      "execution_count": null,
      "outputs": []
    },
    {
      "cell_type": "code",
      "source": [
        "# Apply conversion factor (kg/m2/s -> mm) and scaling factor (0.1) to get ET in mm/month:\n",
        "\n",
        "# Multiply the 'monthly_ET' column by conversion factor\n",
        "monthly_smap_et_df['Monthly_ET'] = monthly_smap_et_df['Monthly_ET'] * 86400 #(24*60*60 = 86400)\n",
        "\n",
        "# Multiply the 'monthly_ET' column by scaling factor\n",
        "monthly_smap_et_df['Monthly_ET'] = monthly_smap_et_df['Monthly_ET'] * 0.1\n",
        "\n",
        "# Display the updated DataFrame\n",
        "print(monthly_smap_et_df)\n",
        "\n",
        "# Convert the result to a list to export it as a DataFrame\n",
        "et_smap_list = monthly_smap_et_df['Monthly_ET'].tolist()\n",
        "print(et_smap_list)\n",
        "dates_smap_list = monthly_smap_et_df['Date'].tolist()\n",
        "print(dates_smap_list)\n"
      ],
      "metadata": {
        "id": "GPSqGNGdnaxr"
      },
      "execution_count": null,
      "outputs": []
    },
    {
      "cell_type": "code",
      "source": [
        "# Combine dates and ET data into a DataFrame\n",
        "et_smap_df = pd.DataFrame({\n",
        "    'date': dates_smap_list,\n",
        "    'SMAP_ET': et_smap_list\n",
        "})\n",
        "\n",
        "# Export the DataFrame to CSV\n",
        "et_smap_df.to_csv('monthly_smap_data.csv', index=False)\n",
        "print(\"CSV file has been created.\")"
      ],
      "metadata": {
        "id": "htMFhqpDn88a"
      },
      "execution_count": null,
      "outputs": []
    }
  ]
}